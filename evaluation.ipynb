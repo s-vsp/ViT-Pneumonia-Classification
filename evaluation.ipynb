{
 "cells": [
  {
   "cell_type": "markdown",
   "metadata": {},
   "source": [
    "# In this notebook we evaluate our trained ViT models on the new dataset (test dataset)."
   ]
  },
  {
   "cell_type": "code",
   "execution_count": 1,
   "metadata": {},
   "outputs": [],
   "source": [
    "import tensorflow as tf\n",
    "from tensorflow import keras\n",
    "from tensorflow.keras import optimizers, metrics\n",
    "import tensorflow_addons as tfa\n",
    "import numpy as np\n",
    "import pandas as pd\n",
    "import os\n",
    "import pickle\n",
    "import pathlib\n",
    "import matplotlib.pyplot as plt\n",
    "import seaborn as sns\n",
    "from sklearn.metrics import confusion_matrix\n",
    "from pneumonia_models import vision_transformer\n",
    "\n",
    "sns.set_theme()\n"
   ]
  },
  {
   "cell_type": "code",
   "execution_count": 2,
   "metadata": {},
   "outputs": [],
   "source": [
    "# LOAD TEST DATA\n",
    "with open('x_test.pkl', 'rb') as f:\n",
    "    x_test = pickle.load(f)\n",
    "\n",
    "with open('y_test.pkl', 'rb') as f:\n",
    "    y_test = pickle.load(f)"
   ]
  },
  {
   "cell_type": "code",
   "execution_count": 3,
   "metadata": {},
   "outputs": [],
   "source": [
    "# Defining global variables\n",
    "INPUT_SHAPE = (224, 224, 3)\n",
    "BATCH_SIZE = 64\n",
    "PATCH_SIZE = 14\n",
    "NUM_PATCHES = 256\n",
    "PROJECTION_DIM = 64 # Dimension per head\n",
    "TRANSFORMER_LAYERS = 6\n",
    "ATTENTION_HEADS = 3\n",
    "MLP_HEADS_UNITS = [2048, 1024]\n",
    "CLASSES = 2\n",
    "WEIGHT_DECAY = 0.005\n",
    "LEARNING_RATE = 0.001\n",
    "NUM_EPOCHS = 200"
   ]
  },
  {
   "cell_type": "code",
   "execution_count": 4,
   "metadata": {},
   "outputs": [],
   "source": [
    "ViT_6_AdamW = vision_transformer(\n",
    "    input_shape=INPUT_SHAPE,\n",
    "    patch_size=PATCH_SIZE,\n",
    "    num_patches=NUM_PATCHES,\n",
    "    projection_dim=PROJECTION_DIM,\n",
    "    transformer_layers=TRANSFORMER_LAYERS,\n",
    "    num_heads=ATTENTION_HEADS,\n",
    "    mlp_heads_units=MLP_HEADS_UNITS,\n",
    "    num_classes=CLASSES,\n",
    "    is_binary=True\n",
    ")\n",
    "\n",
    "ViT_6_SGD = vision_transformer(\n",
    "    input_shape=INPUT_SHAPE,\n",
    "    patch_size=PATCH_SIZE,\n",
    "    num_patches=NUM_PATCHES,\n",
    "    projection_dim=PROJECTION_DIM,\n",
    "    transformer_layers=TRANSFORMER_LAYERS,\n",
    "    num_heads=ATTENTION_HEADS,\n",
    "    mlp_heads_units=MLP_HEADS_UNITS,\n",
    "    num_classes=CLASSES,\n",
    "    is_binary=True\n",
    ")"
   ]
  },
  {
   "cell_type": "code",
   "execution_count": 5,
   "metadata": {},
   "outputs": [],
   "source": [
    "AdamW_optimizer = tfa.optimizers.AdamW(learning_rate=LEARNING_RATE, weight_decay=WEIGHT_DECAY)\n",
    "ViT_6_AdamW.compile(\n",
    "    optimizer=AdamW_optimizer,\n",
    "    loss=\"binary_crossentropy\",\n",
    "    metrics=[metrics.BinaryAccuracy(name=\"accuracy\"), metrics.Recall(name=\"recall\"), metrics.Precision(name=\"precision\")]\n",
    ")\n",
    "\n",
    "SGD_optimizer = optimizers.SGD(learning_rate=LEARNING_RATE, momentum=0.9)\n",
    "ViT_6_SGD.compile(\n",
    "    optimizer=SGD_optimizer,\n",
    "    loss=\"binary_crossentropy\",\n",
    "    metrics=[metrics.BinaryAccuracy(name=\"accuracy\"), metrics.Recall(name=\"recall\"), metrics.Precision(name=\"precision\")]\n",
    ")"
   ]
  },
  {
   "cell_type": "markdown",
   "metadata": {},
   "source": [
    "## Evaluate AdamW"
   ]
  },
  {
   "cell_type": "code",
   "execution_count": 6,
   "metadata": {},
   "outputs": [
    {
     "data": {
      "text/plain": [
       "<tensorflow.python.training.tracking.util.CheckpointLoadStatus at 0x1a01ae0ecc8>"
      ]
     },
     "execution_count": 6,
     "metadata": {},
     "output_type": "execute_result"
    }
   ],
   "source": [
    "# LOAD WEIGHTS FROM TRAINED ViTs\n",
    "ViT_6_AdamW.load_weights(\"./checkpoints/AdamW/checkpointAdamW\")"
   ]
  },
  {
   "cell_type": "code",
   "execution_count": 7,
   "metadata": {},
   "outputs": [
    {
     "name": "stdout",
     "output_type": "stream",
     "text": [
      "20/20 [==============================] - 17s 78ms/step - loss: 0.8779 - accuracy: 0.7356 - recall: 0.9897 - precision: 0.7057\n"
     ]
    }
   ],
   "source": [
    "score_ViT_6_AdamW = ViT_6_AdamW.evaluate(x_test, y_test)"
   ]
  },
  {
   "cell_type": "code",
   "execution_count": 9,
   "metadata": {},
   "outputs": [],
   "source": [
    "pred_probs_ViT_6_AdamW = ViT_6_AdamW.predict(x_test)\n",
    "pred_ViT_6_AdamW = [(0 if prob[0]<=0.5 else 1) for prob in pred_probs_ViT_6_AdamW]"
   ]
  },
  {
   "cell_type": "code",
   "execution_count": 17,
   "metadata": {},
   "outputs": [],
   "source": [
    "cm_AdamW = confusion_matrix(y_test, pred_ViT_6_AdamW)"
   ]
  },
  {
   "cell_type": "code",
   "execution_count": 41,
   "metadata": {},
   "outputs": [
    {
     "data": {
      "image/png": "[encoded data removed]",
      "text/plain": [
       "<Figure size 576x576 with 2 Axes>"
      ]
     },
     "metadata": {},
     "output_type": "display_data"
    }
   ],
   "source": [
    "plt.figure(figsize=(8,8))\n",
    "sns.set(font_scale=1.5)\n",
    "sns.heatmap(cm_AdamW, annot=True, fmt=\".0f\", cmap=\"viridis\")\n",
    "plt.xlabel(\"Predicted labels\")\n",
    "plt.ylabel(\"True labels\")\n",
    "plt.savefig(\"confusion_matrix_AdamW.svg\")"
   ]
  },
  {
   "cell_type": "markdown",
   "metadata": {},
   "source": [
    "## Evaluate SGD"
   ]
  },
  {
   "cell_type": "code",
   "execution_count": 33,
   "metadata": {},
   "outputs": [
    {
     "data": {
      "text/plain": [
       "<tensorflow.python.training.tracking.util.CheckpointLoadStatus at 0x1dbf58db608>"
      ]
     },
     "execution_count": 33,
     "metadata": {},
     "output_type": "execute_result"
    }
   ],
   "source": [
    "# LOAD WEIGHTS FROM TRAINED ViTs\n",
    "ViT_6_SGD.load_weights(\"./checkpoints/SGD/checkpointSGD\")"
   ]
  },
  {
   "cell_type": "code",
   "execution_count": 34,
   "metadata": {},
   "outputs": [
    {
     "name": "stdout",
     "output_type": "stream",
     "text": [
      "20/20 [==============================] - 24s 155ms/step - loss: 1.0767 - accuracy: 0.7580 - recall: 0.9846 - precision: 0.7259\n"
     ]
    }
   ],
   "source": [
    "score_ViT_6_SGD = ViT_6_SGD.evaluate(x_test, y_test)"
   ]
  },
  {
   "cell_type": "code",
   "execution_count": 35,
   "metadata": {},
   "outputs": [],
   "source": [
    "pred_probs_ViT_6_SGD = ViT_6_SGD.predict(x_test)\n",
    "pred_ViT_6_SGD = [(0 if prob[0]<=0.5 else 1) for prob in pred_probs_ViT_6_SGD]"
   ]
  },
  {
   "cell_type": "code",
   "execution_count": 36,
   "metadata": {},
   "outputs": [],
   "source": [
    "cm_SGD = confusion_matrix(y_test, pred_ViT_6_SGD)"
   ]
  },
  {
   "cell_type": "code",
   "execution_count": 42,
   "metadata": {},
   "outputs": [
    {
     "data": {
      "image/png": "[encoded data removed]",
      "text/plain": [
       "<Figure size 576x576 with 2 Axes>"
      ]
     },
     "metadata": {},
     "output_type": "display_data"
    }
   ],
   "source": [
    "plt.figure(figsize=(8,8))\n",
    "sns.set(font_scale=1.5)\n",
    "sns.heatmap(cm_SGD, annot=True, fmt=\".0f\", cmap=\"viridis\")\n",
    "plt.xlabel(\"Predicted labels\")\n",
    "plt.ylabel(\"True labels\")\n",
    "plt.savefig(\"confusion_matrix_SGD.svg\")"
   ]
  },
  {
   "cell_type": "code",
   "execution_count": null,
   "metadata": {},
   "outputs": [],
   "source": []
  }
 ],
 "metadata": {
  "interpreter": {
   "hash": "12d65967f7c8026481c88990e183b3c6a37e5750f05c2eba6a63cda58643ee39"
  },
  "kernelspec": {
   "display_name": "Python 3.7.11 ('blue')",
   "language": "python",
   "name": "python3"
  },
  "language_info": {
   "codemirror_mode": {
    "name": "ipython",
    "version": 3
   },
   "file_extension": ".py",
   "mimetype": "text/x-python",
   "name": "python",
   "nbconvert_exporter": "python",
   "pygments_lexer": "ipython3",
   "version": "3.7.11"
  },
  "orig_nbformat": 4
 },
 "nbformat": 4,
 "nbformat_minor": 2
}
